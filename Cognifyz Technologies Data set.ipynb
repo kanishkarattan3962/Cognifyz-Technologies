{
 "cells": [
  {
   "cell_type": "code",
   "execution_count": 1,
   "id": "ad193a67-d4b7-4695-ac62-f6555f01b284",
   "metadata": {},
   "outputs": [
    {
     "name": "stdout",
     "output_type": "stream",
     "text": [
      "libraries imported successfully\n"
     ]
    }
   ],
   "source": [
    "import numpy as np\n",
    "import matplotlib.pyplot as plt\n",
    "import pandas as pd\n",
    "from sklearn.cluster import KMeans\n",
    "from sklearn import datasets\n",
    "from matplotlib import pyplot\n",
    "from pandas.plotting import scatter_matrix\n",
    "import seaborn as sns\n",
    "import warnings\n",
    "warnings.filterwarnings(\"ignore\")\n",
    "import os\n",
    "print(\"libraries imported successfully\")"
   ]
  },
  {
   "cell_type": "code",
   "execution_count": 2,
   "id": "c22c9f11-35b9-4f9b-a901-87c2e68c6f76",
   "metadata": {},
   "outputs": [
    {
     "data": {
      "text/plain": [
       "'\\nTask 1: Data Overview\\nObjective: Understand the dataset structure.\\nSteps:\\n1.Load the dataset: Import the dataset into a data analysis tool such as Python with pandas or spreadsheet software.\\n2.Descriptive Statistics: Use descriptive functions (e.g., info() in pandas) to gather information about the number of entries, columns, and data types.\\n'"
      ]
     },
     "execution_count": 2,
     "metadata": {},
     "output_type": "execute_result"
    }
   ],
   "source": [
    "\"\"\"\n",
    "Task 1: Data Overview\n",
    "Objective: Understand the dataset structure.\n",
    "Steps:\n",
    "1.Load the dataset: Import the dataset into a data analysis tool such as Python with pandas or spreadsheet software.\n",
    "2.Descriptive Statistics: Use descriptive functions (e.g., info() in pandas) to gather information about the number of entries, columns, and data types.\n",
    "\"\"\""
   ]
  },
  {
   "cell_type": "code",
   "execution_count": 3,
   "id": "22ad91e8-eefd-429d-bedb-2e5c29969578",
   "metadata": {},
   "outputs": [],
   "source": [
    "data = pd.read_csv('C:\\\\Users\\\\yatee\\\\Downloads\\\\Data_set 2 - Copy.csv')"
   ]
  },
  {
   "cell_type": "code",
   "execution_count": 4,
   "id": "97832134-d7a0-451c-99d4-5c5d39991bd3",
   "metadata": {},
   "outputs": [
    {
     "data": {
      "text/html": [
       "<div>\n",
       "<style scoped>\n",
       "    .dataframe tbody tr th:only-of-type {\n",
       "        vertical-align: middle;\n",
       "    }\n",
       "\n",
       "    .dataframe tbody tr th {\n",
       "        vertical-align: top;\n",
       "    }\n",
       "\n",
       "    .dataframe thead th {\n",
       "        text-align: right;\n",
       "    }\n",
       "</style>\n",
       "<table border=\"1\" class=\"dataframe\">\n",
       "  <thead>\n",
       "    <tr style=\"text-align: right;\">\n",
       "      <th></th>\n",
       "      <th>gender</th>\n",
       "      <th>age</th>\n",
       "      <th>Investment_Avenues</th>\n",
       "      <th>Mutual_Funds</th>\n",
       "      <th>Equity_Market</th>\n",
       "      <th>Debentures</th>\n",
       "      <th>Government_Bonds</th>\n",
       "      <th>Fixed_Deposits</th>\n",
       "      <th>PPF</th>\n",
       "      <th>Gold</th>\n",
       "      <th>...</th>\n",
       "      <th>Duration</th>\n",
       "      <th>Invest_Monitor</th>\n",
       "      <th>Expect</th>\n",
       "      <th>Avenue</th>\n",
       "      <th>What are your savings objectives?</th>\n",
       "      <th>Reason_Equity</th>\n",
       "      <th>Reason_Mutual</th>\n",
       "      <th>Reason_Bonds</th>\n",
       "      <th>Reason_FD</th>\n",
       "      <th>Source</th>\n",
       "    </tr>\n",
       "  </thead>\n",
       "  <tbody>\n",
       "    <tr>\n",
       "      <th>0</th>\n",
       "      <td>Female</td>\n",
       "      <td>34</td>\n",
       "      <td>Yes</td>\n",
       "      <td>1</td>\n",
       "      <td>2</td>\n",
       "      <td>5</td>\n",
       "      <td>3</td>\n",
       "      <td>7</td>\n",
       "      <td>6</td>\n",
       "      <td>4</td>\n",
       "      <td>...</td>\n",
       "      <td>1-3 years</td>\n",
       "      <td>Monthly</td>\n",
       "      <td>20%-30%</td>\n",
       "      <td>Mutual Fund</td>\n",
       "      <td>Retirement Plan</td>\n",
       "      <td>Capital Appreciation</td>\n",
       "      <td>Better Returns</td>\n",
       "      <td>Safe Investment</td>\n",
       "      <td>Fixed Returns</td>\n",
       "      <td>Newspapers and Magazines</td>\n",
       "    </tr>\n",
       "    <tr>\n",
       "      <th>1</th>\n",
       "      <td>Female</td>\n",
       "      <td>23</td>\n",
       "      <td>Yes</td>\n",
       "      <td>4</td>\n",
       "      <td>3</td>\n",
       "      <td>2</td>\n",
       "      <td>1</td>\n",
       "      <td>5</td>\n",
       "      <td>6</td>\n",
       "      <td>7</td>\n",
       "      <td>...</td>\n",
       "      <td>More than 5 years</td>\n",
       "      <td>Weekly</td>\n",
       "      <td>20%-30%</td>\n",
       "      <td>Mutual Fund</td>\n",
       "      <td>Health Care</td>\n",
       "      <td>Dividend</td>\n",
       "      <td>Better Returns</td>\n",
       "      <td>Safe Investment</td>\n",
       "      <td>High Interest Rates</td>\n",
       "      <td>Financial Consultants</td>\n",
       "    </tr>\n",
       "    <tr>\n",
       "      <th>2</th>\n",
       "      <td>Male</td>\n",
       "      <td>30</td>\n",
       "      <td>Yes</td>\n",
       "      <td>3</td>\n",
       "      <td>6</td>\n",
       "      <td>4</td>\n",
       "      <td>2</td>\n",
       "      <td>5</td>\n",
       "      <td>1</td>\n",
       "      <td>7</td>\n",
       "      <td>...</td>\n",
       "      <td>3-5 years</td>\n",
       "      <td>Daily</td>\n",
       "      <td>20%-30%</td>\n",
       "      <td>Equity</td>\n",
       "      <td>Retirement Plan</td>\n",
       "      <td>Capital Appreciation</td>\n",
       "      <td>Tax Benefits</td>\n",
       "      <td>Assured Returns</td>\n",
       "      <td>Fixed Returns</td>\n",
       "      <td>Television</td>\n",
       "    </tr>\n",
       "    <tr>\n",
       "      <th>3</th>\n",
       "      <td>Male</td>\n",
       "      <td>22</td>\n",
       "      <td>Yes</td>\n",
       "      <td>2</td>\n",
       "      <td>1</td>\n",
       "      <td>3</td>\n",
       "      <td>7</td>\n",
       "      <td>6</td>\n",
       "      <td>4</td>\n",
       "      <td>5</td>\n",
       "      <td>...</td>\n",
       "      <td>Less than 1 year</td>\n",
       "      <td>Daily</td>\n",
       "      <td>10%-20%</td>\n",
       "      <td>Equity</td>\n",
       "      <td>Retirement Plan</td>\n",
       "      <td>Dividend</td>\n",
       "      <td>Fund Diversification</td>\n",
       "      <td>Tax Incentives</td>\n",
       "      <td>High Interest Rates</td>\n",
       "      <td>Internet</td>\n",
       "    </tr>\n",
       "    <tr>\n",
       "      <th>4</th>\n",
       "      <td>Female</td>\n",
       "      <td>24</td>\n",
       "      <td>No</td>\n",
       "      <td>2</td>\n",
       "      <td>1</td>\n",
       "      <td>3</td>\n",
       "      <td>6</td>\n",
       "      <td>4</td>\n",
       "      <td>5</td>\n",
       "      <td>7</td>\n",
       "      <td>...</td>\n",
       "      <td>Less than 1 year</td>\n",
       "      <td>Daily</td>\n",
       "      <td>20%-30%</td>\n",
       "      <td>Equity</td>\n",
       "      <td>Retirement Plan</td>\n",
       "      <td>Capital Appreciation</td>\n",
       "      <td>Better Returns</td>\n",
       "      <td>Safe Investment</td>\n",
       "      <td>Risk Free</td>\n",
       "      <td>Internet</td>\n",
       "    </tr>\n",
       "  </tbody>\n",
       "</table>\n",
       "<p>5 rows × 24 columns</p>\n",
       "</div>"
      ],
      "text/plain": [
       "   gender  age Investment_Avenues  Mutual_Funds  Equity_Market  Debentures  \\\n",
       "0  Female   34                Yes             1              2           5   \n",
       "1  Female   23                Yes             4              3           2   \n",
       "2    Male   30                Yes             3              6           4   \n",
       "3    Male   22                Yes             2              1           3   \n",
       "4  Female   24                 No             2              1           3   \n",
       "\n",
       "   Government_Bonds  Fixed_Deposits  PPF  Gold  ...           Duration  \\\n",
       "0                 3               7    6     4  ...          1-3 years   \n",
       "1                 1               5    6     7  ...  More than 5 years   \n",
       "2                 2               5    1     7  ...          3-5 years   \n",
       "3                 7               6    4     5  ...   Less than 1 year   \n",
       "4                 6               4    5     7  ...   Less than 1 year   \n",
       "\n",
       "  Invest_Monitor   Expect       Avenue What are your savings objectives?  \\\n",
       "0        Monthly  20%-30%  Mutual Fund                   Retirement Plan   \n",
       "1         Weekly  20%-30%  Mutual Fund                       Health Care   \n",
       "2          Daily  20%-30%       Equity                   Retirement Plan   \n",
       "3          Daily  10%-20%       Equity                   Retirement Plan   \n",
       "4          Daily  20%-30%       Equity                   Retirement Plan   \n",
       "\n",
       "          Reason_Equity         Reason_Mutual     Reason_Bonds  \\\n",
       "0  Capital Appreciation        Better Returns  Safe Investment   \n",
       "1              Dividend        Better Returns  Safe Investment   \n",
       "2  Capital Appreciation          Tax Benefits  Assured Returns   \n",
       "3              Dividend  Fund Diversification   Tax Incentives   \n",
       "4  Capital Appreciation        Better Returns  Safe Investment   \n",
       "\n",
       "             Reason_FD                    Source  \n",
       "0        Fixed Returns  Newspapers and Magazines  \n",
       "1  High Interest Rates     Financial Consultants  \n",
       "2        Fixed Returns                Television  \n",
       "3  High Interest Rates                  Internet  \n",
       "4            Risk Free                  Internet  \n",
       "\n",
       "[5 rows x 24 columns]"
      ]
     },
     "execution_count": 4,
     "metadata": {},
     "output_type": "execute_result"
    }
   ],
   "source": [
    "data.head()"
   ]
  },
  {
   "cell_type": "code",
   "execution_count": 5,
   "id": "e3aeba2f-77d2-4c94-8c29-c8ab8ce47c63",
   "metadata": {},
   "outputs": [
    {
     "data": {
      "text/html": [
       "<div>\n",
       "<style scoped>\n",
       "    .dataframe tbody tr th:only-of-type {\n",
       "        vertical-align: middle;\n",
       "    }\n",
       "\n",
       "    .dataframe tbody tr th {\n",
       "        vertical-align: top;\n",
       "    }\n",
       "\n",
       "    .dataframe thead th {\n",
       "        text-align: right;\n",
       "    }\n",
       "</style>\n",
       "<table border=\"1\" class=\"dataframe\">\n",
       "  <thead>\n",
       "    <tr style=\"text-align: right;\">\n",
       "      <th></th>\n",
       "      <th>age</th>\n",
       "      <th>Mutual_Funds</th>\n",
       "      <th>Equity_Market</th>\n",
       "      <th>Debentures</th>\n",
       "      <th>Government_Bonds</th>\n",
       "      <th>Fixed_Deposits</th>\n",
       "      <th>PPF</th>\n",
       "      <th>Gold</th>\n",
       "    </tr>\n",
       "  </thead>\n",
       "  <tbody>\n",
       "    <tr>\n",
       "      <th>count</th>\n",
       "      <td>40.000000</td>\n",
       "      <td>40.000000</td>\n",
       "      <td>40.000000</td>\n",
       "      <td>40.000000</td>\n",
       "      <td>40.000000</td>\n",
       "      <td>40.000000</td>\n",
       "      <td>40.000000</td>\n",
       "      <td>40.000000</td>\n",
       "    </tr>\n",
       "    <tr>\n",
       "      <th>mean</th>\n",
       "      <td>27.800000</td>\n",
       "      <td>2.550000</td>\n",
       "      <td>3.475000</td>\n",
       "      <td>5.750000</td>\n",
       "      <td>4.650000</td>\n",
       "      <td>3.575000</td>\n",
       "      <td>2.025000</td>\n",
       "      <td>5.975000</td>\n",
       "    </tr>\n",
       "    <tr>\n",
       "      <th>std</th>\n",
       "      <td>3.560467</td>\n",
       "      <td>1.197219</td>\n",
       "      <td>1.131994</td>\n",
       "      <td>1.675617</td>\n",
       "      <td>1.369072</td>\n",
       "      <td>1.795828</td>\n",
       "      <td>1.609069</td>\n",
       "      <td>1.143263</td>\n",
       "    </tr>\n",
       "    <tr>\n",
       "      <th>min</th>\n",
       "      <td>21.000000</td>\n",
       "      <td>1.000000</td>\n",
       "      <td>1.000000</td>\n",
       "      <td>1.000000</td>\n",
       "      <td>1.000000</td>\n",
       "      <td>1.000000</td>\n",
       "      <td>1.000000</td>\n",
       "      <td>2.000000</td>\n",
       "    </tr>\n",
       "    <tr>\n",
       "      <th>25%</th>\n",
       "      <td>25.750000</td>\n",
       "      <td>2.000000</td>\n",
       "      <td>3.000000</td>\n",
       "      <td>5.000000</td>\n",
       "      <td>4.000000</td>\n",
       "      <td>2.750000</td>\n",
       "      <td>1.000000</td>\n",
       "      <td>6.000000</td>\n",
       "    </tr>\n",
       "    <tr>\n",
       "      <th>50%</th>\n",
       "      <td>27.000000</td>\n",
       "      <td>2.000000</td>\n",
       "      <td>4.000000</td>\n",
       "      <td>6.500000</td>\n",
       "      <td>5.000000</td>\n",
       "      <td>3.500000</td>\n",
       "      <td>1.000000</td>\n",
       "      <td>6.000000</td>\n",
       "    </tr>\n",
       "    <tr>\n",
       "      <th>75%</th>\n",
       "      <td>30.000000</td>\n",
       "      <td>3.000000</td>\n",
       "      <td>4.000000</td>\n",
       "      <td>7.000000</td>\n",
       "      <td>5.000000</td>\n",
       "      <td>5.000000</td>\n",
       "      <td>2.250000</td>\n",
       "      <td>7.000000</td>\n",
       "    </tr>\n",
       "    <tr>\n",
       "      <th>max</th>\n",
       "      <td>35.000000</td>\n",
       "      <td>7.000000</td>\n",
       "      <td>6.000000</td>\n",
       "      <td>7.000000</td>\n",
       "      <td>7.000000</td>\n",
       "      <td>7.000000</td>\n",
       "      <td>6.000000</td>\n",
       "      <td>7.000000</td>\n",
       "    </tr>\n",
       "  </tbody>\n",
       "</table>\n",
       "</div>"
      ],
      "text/plain": [
       "             age  Mutual_Funds  Equity_Market  Debentures  Government_Bonds  \\\n",
       "count  40.000000     40.000000      40.000000   40.000000         40.000000   \n",
       "mean   27.800000      2.550000       3.475000    5.750000          4.650000   \n",
       "std     3.560467      1.197219       1.131994    1.675617          1.369072   \n",
       "min    21.000000      1.000000       1.000000    1.000000          1.000000   \n",
       "25%    25.750000      2.000000       3.000000    5.000000          4.000000   \n",
       "50%    27.000000      2.000000       4.000000    6.500000          5.000000   \n",
       "75%    30.000000      3.000000       4.000000    7.000000          5.000000   \n",
       "max    35.000000      7.000000       6.000000    7.000000          7.000000   \n",
       "\n",
       "       Fixed_Deposits        PPF       Gold  \n",
       "count       40.000000  40.000000  40.000000  \n",
       "mean         3.575000   2.025000   5.975000  \n",
       "std          1.795828   1.609069   1.143263  \n",
       "min          1.000000   1.000000   2.000000  \n",
       "25%          2.750000   1.000000   6.000000  \n",
       "50%          3.500000   1.000000   6.000000  \n",
       "75%          5.000000   2.250000   7.000000  \n",
       "max          7.000000   6.000000   7.000000  "
      ]
     },
     "execution_count": 5,
     "metadata": {},
     "output_type": "execute_result"
    }
   ],
   "source": [
    "data.describe()"
   ]
  },
  {
   "cell_type": "code",
   "execution_count": 6,
   "id": "d8e24caf-adaf-4ed5-baf8-dcd4d62e424d",
   "metadata": {},
   "outputs": [
    {
     "data": {
      "text/plain": [
       "gender\n",
       "Male      25\n",
       "Female    15\n",
       "Name: count, dtype: int64"
      ]
     },
     "execution_count": 6,
     "metadata": {},
     "output_type": "execute_result"
    }
   ],
   "source": [
    "data['gender'].value_counts()"
   ]
  },
  {
   "cell_type": "code",
   "execution_count": 7,
   "id": "89e58695-bffc-4daf-b551-f80a180acef5",
   "metadata": {},
   "outputs": [
    {
     "data": {
      "text/plain": [
       "Investment_Avenues\n",
       "Yes    37\n",
       "No      3\n",
       "Name: count, dtype: int64"
      ]
     },
     "execution_count": 7,
     "metadata": {},
     "output_type": "execute_result"
    }
   ],
   "source": [
    "data['Investment_Avenues'].value_counts()"
   ]
  },
  {
   "cell_type": "code",
   "execution_count": 8,
   "id": "1263591c-3cfd-4442-a4a9-060d95bfa71d",
   "metadata": {},
   "outputs": [
    {
     "data": {
      "text/plain": [
       "gender                               0\n",
       "age                                  0\n",
       "Investment_Avenues                   0\n",
       "Mutual_Funds                         0\n",
       "Equity_Market                        0\n",
       "Debentures                           0\n",
       "Government_Bonds                     0\n",
       "Fixed_Deposits                       0\n",
       "PPF                                  0\n",
       "Gold                                 0\n",
       "Stock_Marktet                        0\n",
       "Factor                               0\n",
       "Objective                            0\n",
       "Purpose                              0\n",
       "Duration                             0\n",
       "Invest_Monitor                       0\n",
       "Expect                               0\n",
       "Avenue                               0\n",
       "What are your savings objectives?    0\n",
       "Reason_Equity                        0\n",
       "Reason_Mutual                        0\n",
       "Reason_Bonds                         0\n",
       "Reason_FD                            0\n",
       "Source                               0\n",
       "dtype: int64"
      ]
     },
     "execution_count": 8,
     "metadata": {},
     "output_type": "execute_result"
    }
   ],
   "source": [
    "data.isnull().sum()"
   ]
  },
  {
   "cell_type": "code",
   "execution_count": 9,
   "id": "52f2932e-630e-414a-8199-8eafae89379e",
   "metadata": {},
   "outputs": [
    {
     "data": {
      "text/plain": [
       "'\\nTask 2: Gender Distribution\\nObjective: Visualize gender distribution in the dataset.\\nSteps:\\n1.Extract Gender Information: Identify and extract the gender column from the dataset.\\n2.Visualization: Create a simple visualization, such as a bar chart or pie chart, to represent the distribution of genders in the dataset.\\n'"
      ]
     },
     "execution_count": 9,
     "metadata": {},
     "output_type": "execute_result"
    }
   ],
   "source": [
    "\"\"\"\n",
    "Task 2: Gender Distribution\n",
    "Objective: Visualize gender distribution in the dataset.\n",
    "Steps:\n",
    "1.Extract Gender Information: Identify and extract the gender column from the dataset.\n",
    "2.Visualization: Create a simple visualization, such as a bar chart or pie chart, to represent the distribution of genders in the dataset.\n",
    "\"\"\""
   ]
  },
  {
   "cell_type": "code",
   "execution_count": 10,
   "id": "811834dd-4dbb-48f8-8abd-fa5e1384b3a8",
   "metadata": {},
   "outputs": [],
   "source": [
    "gender_counts=data['gender'].value_counts()"
   ]
  },
  {
   "cell_type": "code",
   "execution_count": 11,
   "id": "4687f853-2cef-4379-8997-f398a19a1190",
   "metadata": {},
   "outputs": [
    {
     "data": {
      "image/png": "[encoded data removed]",
      "text/plain": [
       "<Figure size 600x400 with 1 Axes>"
      ]
     },
     "metadata": {},
     "output_type": "display_data"
    }
   ],
   "source": [
    "plt.figure(figsize=(6, 4))\n",
    "plt.bar(gender_counts.index, gender_counts.values, color=['blue', 'pink'])\n",
    "plt.title('Gender Distribution')\n",
    "plt.xlabel('Gender')\n",
    "plt.ylabel('Count')\n",
    "plt.show()"
   ]
  },
  {
   "cell_type": "code",
   "execution_count": 12,
   "id": "45900808-5833-4138-8dc8-3167f4689336",
   "metadata": {},
   "outputs": [
    {
     "data": {
      "image/png": "[encoded data removed]",
      "text/plain": [
       "<Figure size 600x600 with 1 Axes>"
      ]
     },
     "metadata": {},
     "output_type": "display_data"
    }
   ],
   "source": [
    "plt.figure(figsize=(6, 6))\n",
    "plt.pie(gender_counts.values, labels=gender_counts.index, autopct='%1.1f%%', colors=['lightblue', 'lightpink'], startangle=90)\n",
    "plt.title('Gender Distribution')\n",
    "plt.axis('equal')  # Equal aspect ratio ensures the pie is drawn as a circle.\n",
    "plt.show()"
   ]
  },
  {
   "cell_type": "code",
   "execution_count": 13,
   "id": "c7746c9a-f04c-4aca-acc6-39417e67a51e",
   "metadata": {},
   "outputs": [
    {
     "data": {
      "text/plain": [
       "'\\nTask 3: Descriptive Statistics\\nObjective: Present basic statistics for numerical columns.\\nSteps:\\n1.Identify Numerical Columns: Review the dataset to identify columns containing numerical data (e.g., age, income).\\n2.Calculations: Use statistical functions (e.g., mean(), median(), std()) to calculate the mean, median, and standard deviation for each numerical \\ncolumn.\\n'"
      ]
     },
     "execution_count": 13,
     "metadata": {},
     "output_type": "execute_result"
    }
   ],
   "source": [
    "\"\"\"\n",
    "Task 3: Descriptive Statistics\n",
    "Objective: Present basic statistics for numerical columns.\n",
    "Steps:\n",
    "1.Identify Numerical Columns: Review the dataset to identify columns containing numerical data (e.g., age, income).\n",
    "2.Calculations: Use statistical functions (e.g., mean(), median(), std()) to calculate the mean, median, and standard deviation for each numerical \n",
    "column.\n",
    "\"\"\""
   ]
  },
  {
   "cell_type": "code",
   "execution_count": 14,
   "id": "e8ae0374-18e7-40cb-b53f-34798a0be3aa",
   "metadata": {},
   "outputs": [
    {
     "data": {
      "text/html": [
       "<div>\n",
       "<style scoped>\n",
       "    .dataframe tbody tr th:only-of-type {\n",
       "        vertical-align: middle;\n",
       "    }\n",
       "\n",
       "    .dataframe tbody tr th {\n",
       "        vertical-align: top;\n",
       "    }\n",
       "\n",
       "    .dataframe thead th {\n",
       "        text-align: right;\n",
       "    }\n",
       "</style>\n",
       "<table border=\"1\" class=\"dataframe\">\n",
       "  <thead>\n",
       "    <tr style=\"text-align: right;\">\n",
       "      <th></th>\n",
       "      <th>age</th>\n",
       "      <th>Mutual_Funds</th>\n",
       "      <th>Equity_Market</th>\n",
       "      <th>Debentures</th>\n",
       "      <th>Government_Bonds</th>\n",
       "      <th>Fixed_Deposits</th>\n",
       "      <th>PPF</th>\n",
       "      <th>Gold</th>\n",
       "    </tr>\n",
       "  </thead>\n",
       "  <tbody>\n",
       "    <tr>\n",
       "      <th>0</th>\n",
       "      <td>34</td>\n",
       "      <td>1</td>\n",
       "      <td>2</td>\n",
       "      <td>5</td>\n",
       "      <td>3</td>\n",
       "      <td>7</td>\n",
       "      <td>6</td>\n",
       "      <td>4</td>\n",
       "    </tr>\n",
       "    <tr>\n",
       "      <th>1</th>\n",
       "      <td>23</td>\n",
       "      <td>4</td>\n",
       "      <td>3</td>\n",
       "      <td>2</td>\n",
       "      <td>1</td>\n",
       "      <td>5</td>\n",
       "      <td>6</td>\n",
       "      <td>7</td>\n",
       "    </tr>\n",
       "    <tr>\n",
       "      <th>2</th>\n",
       "      <td>30</td>\n",
       "      <td>3</td>\n",
       "      <td>6</td>\n",
       "      <td>4</td>\n",
       "      <td>2</td>\n",
       "      <td>5</td>\n",
       "      <td>1</td>\n",
       "      <td>7</td>\n",
       "    </tr>\n",
       "    <tr>\n",
       "      <th>3</th>\n",
       "      <td>22</td>\n",
       "      <td>2</td>\n",
       "      <td>1</td>\n",
       "      <td>3</td>\n",
       "      <td>7</td>\n",
       "      <td>6</td>\n",
       "      <td>4</td>\n",
       "      <td>5</td>\n",
       "    </tr>\n",
       "    <tr>\n",
       "      <th>4</th>\n",
       "      <td>24</td>\n",
       "      <td>2</td>\n",
       "      <td>1</td>\n",
       "      <td>3</td>\n",
       "      <td>6</td>\n",
       "      <td>4</td>\n",
       "      <td>5</td>\n",
       "      <td>7</td>\n",
       "    </tr>\n",
       "    <tr>\n",
       "      <th>5</th>\n",
       "      <td>24</td>\n",
       "      <td>7</td>\n",
       "      <td>5</td>\n",
       "      <td>4</td>\n",
       "      <td>6</td>\n",
       "      <td>3</td>\n",
       "      <td>1</td>\n",
       "      <td>2</td>\n",
       "    </tr>\n",
       "    <tr>\n",
       "      <th>6</th>\n",
       "      <td>27</td>\n",
       "      <td>3</td>\n",
       "      <td>6</td>\n",
       "      <td>4</td>\n",
       "      <td>2</td>\n",
       "      <td>5</td>\n",
       "      <td>1</td>\n",
       "      <td>7</td>\n",
       "    </tr>\n",
       "    <tr>\n",
       "      <th>7</th>\n",
       "      <td>21</td>\n",
       "      <td>2</td>\n",
       "      <td>3</td>\n",
       "      <td>7</td>\n",
       "      <td>4</td>\n",
       "      <td>6</td>\n",
       "      <td>1</td>\n",
       "      <td>5</td>\n",
       "    </tr>\n",
       "    <tr>\n",
       "      <th>8</th>\n",
       "      <td>35</td>\n",
       "      <td>2</td>\n",
       "      <td>4</td>\n",
       "      <td>7</td>\n",
       "      <td>5</td>\n",
       "      <td>3</td>\n",
       "      <td>1</td>\n",
       "      <td>6</td>\n",
       "    </tr>\n",
       "    <tr>\n",
       "      <th>9</th>\n",
       "      <td>31</td>\n",
       "      <td>1</td>\n",
       "      <td>3</td>\n",
       "      <td>7</td>\n",
       "      <td>4</td>\n",
       "      <td>5</td>\n",
       "      <td>2</td>\n",
       "      <td>6</td>\n",
       "    </tr>\n",
       "    <tr>\n",
       "      <th>10</th>\n",
       "      <td>35</td>\n",
       "      <td>2</td>\n",
       "      <td>4</td>\n",
       "      <td>7</td>\n",
       "      <td>5</td>\n",
       "      <td>3</td>\n",
       "      <td>1</td>\n",
       "      <td>6</td>\n",
       "    </tr>\n",
       "    <tr>\n",
       "      <th>11</th>\n",
       "      <td>29</td>\n",
       "      <td>2</td>\n",
       "      <td>5</td>\n",
       "      <td>7</td>\n",
       "      <td>6</td>\n",
       "      <td>3</td>\n",
       "      <td>1</td>\n",
       "      <td>4</td>\n",
       "    </tr>\n",
       "    <tr>\n",
       "      <th>12</th>\n",
       "      <td>21</td>\n",
       "      <td>1</td>\n",
       "      <td>2</td>\n",
       "      <td>3</td>\n",
       "      <td>4</td>\n",
       "      <td>5</td>\n",
       "      <td>6</td>\n",
       "      <td>7</td>\n",
       "    </tr>\n",
       "    <tr>\n",
       "      <th>13</th>\n",
       "      <td>28</td>\n",
       "      <td>2</td>\n",
       "      <td>3</td>\n",
       "      <td>7</td>\n",
       "      <td>4</td>\n",
       "      <td>5</td>\n",
       "      <td>1</td>\n",
       "      <td>6</td>\n",
       "    </tr>\n",
       "    <tr>\n",
       "      <th>14</th>\n",
       "      <td>25</td>\n",
       "      <td>2</td>\n",
       "      <td>3</td>\n",
       "      <td>7</td>\n",
       "      <td>5</td>\n",
       "      <td>4</td>\n",
       "      <td>1</td>\n",
       "      <td>6</td>\n",
       "    </tr>\n",
       "    <tr>\n",
       "      <th>15</th>\n",
       "      <td>27</td>\n",
       "      <td>2</td>\n",
       "      <td>3</td>\n",
       "      <td>7</td>\n",
       "      <td>5</td>\n",
       "      <td>4</td>\n",
       "      <td>1</td>\n",
       "      <td>6</td>\n",
       "    </tr>\n",
       "    <tr>\n",
       "      <th>16</th>\n",
       "      <td>28</td>\n",
       "      <td>3</td>\n",
       "      <td>2</td>\n",
       "      <td>7</td>\n",
       "      <td>5</td>\n",
       "      <td>4</td>\n",
       "      <td>1</td>\n",
       "      <td>6</td>\n",
       "    </tr>\n",
       "    <tr>\n",
       "      <th>17</th>\n",
       "      <td>27</td>\n",
       "      <td>3</td>\n",
       "      <td>2</td>\n",
       "      <td>7</td>\n",
       "      <td>4</td>\n",
       "      <td>5</td>\n",
       "      <td>1</td>\n",
       "      <td>6</td>\n",
       "    </tr>\n",
       "    <tr>\n",
       "      <th>18</th>\n",
       "      <td>29</td>\n",
       "      <td>3</td>\n",
       "      <td>2</td>\n",
       "      <td>7</td>\n",
       "      <td>4</td>\n",
       "      <td>5</td>\n",
       "      <td>1</td>\n",
       "      <td>6</td>\n",
       "    </tr>\n",
       "    <tr>\n",
       "      <th>19</th>\n",
       "      <td>26</td>\n",
       "      <td>3</td>\n",
       "      <td>4</td>\n",
       "      <td>6</td>\n",
       "      <td>5</td>\n",
       "      <td>1</td>\n",
       "      <td>2</td>\n",
       "      <td>7</td>\n",
       "    </tr>\n",
       "    <tr>\n",
       "      <th>20</th>\n",
       "      <td>29</td>\n",
       "      <td>2</td>\n",
       "      <td>4</td>\n",
       "      <td>7</td>\n",
       "      <td>5</td>\n",
       "      <td>3</td>\n",
       "      <td>1</td>\n",
       "      <td>6</td>\n",
       "    </tr>\n",
       "    <tr>\n",
       "      <th>21</th>\n",
       "      <td>24</td>\n",
       "      <td>2</td>\n",
       "      <td>4</td>\n",
       "      <td>5</td>\n",
       "      <td>6</td>\n",
       "      <td>3</td>\n",
       "      <td>1</td>\n",
       "      <td>7</td>\n",
       "    </tr>\n",
       "    <tr>\n",
       "      <th>22</th>\n",
       "      <td>27</td>\n",
       "      <td>3</td>\n",
       "      <td>4</td>\n",
       "      <td>6</td>\n",
       "      <td>5</td>\n",
       "      <td>2</td>\n",
       "      <td>1</td>\n",
       "      <td>7</td>\n",
       "    </tr>\n",
       "    <tr>\n",
       "      <th>23</th>\n",
       "      <td>25</td>\n",
       "      <td>2</td>\n",
       "      <td>4</td>\n",
       "      <td>6</td>\n",
       "      <td>5</td>\n",
       "      <td>3</td>\n",
       "      <td>1</td>\n",
       "      <td>7</td>\n",
       "    </tr>\n",
       "    <tr>\n",
       "      <th>24</th>\n",
       "      <td>26</td>\n",
       "      <td>2</td>\n",
       "      <td>3</td>\n",
       "      <td>7</td>\n",
       "      <td>5</td>\n",
       "      <td>4</td>\n",
       "      <td>1</td>\n",
       "      <td>6</td>\n",
       "    </tr>\n",
       "    <tr>\n",
       "      <th>25</th>\n",
       "      <td>32</td>\n",
       "      <td>3</td>\n",
       "      <td>4</td>\n",
       "      <td>7</td>\n",
       "      <td>5</td>\n",
       "      <td>1</td>\n",
       "      <td>2</td>\n",
       "      <td>6</td>\n",
       "    </tr>\n",
       "    <tr>\n",
       "      <th>26</th>\n",
       "      <td>26</td>\n",
       "      <td>3</td>\n",
       "      <td>4</td>\n",
       "      <td>6</td>\n",
       "      <td>5</td>\n",
       "      <td>1</td>\n",
       "      <td>2</td>\n",
       "      <td>7</td>\n",
       "    </tr>\n",
       "    <tr>\n",
       "      <th>27</th>\n",
       "      <td>31</td>\n",
       "      <td>2</td>\n",
       "      <td>3</td>\n",
       "      <td>7</td>\n",
       "      <td>6</td>\n",
       "      <td>4</td>\n",
       "      <td>1</td>\n",
       "      <td>5</td>\n",
       "    </tr>\n",
       "    <tr>\n",
       "      <th>28</th>\n",
       "      <td>29</td>\n",
       "      <td>2</td>\n",
       "      <td>3</td>\n",
       "      <td>6</td>\n",
       "      <td>5</td>\n",
       "      <td>1</td>\n",
       "      <td>4</td>\n",
       "      <td>7</td>\n",
       "    </tr>\n",
       "    <tr>\n",
       "      <th>29</th>\n",
       "      <td>34</td>\n",
       "      <td>5</td>\n",
       "      <td>4</td>\n",
       "      <td>3</td>\n",
       "      <td>2</td>\n",
       "      <td>7</td>\n",
       "      <td>1</td>\n",
       "      <td>6</td>\n",
       "    </tr>\n",
       "    <tr>\n",
       "      <th>30</th>\n",
       "      <td>27</td>\n",
       "      <td>4</td>\n",
       "      <td>5</td>\n",
       "      <td>1</td>\n",
       "      <td>2</td>\n",
       "      <td>7</td>\n",
       "      <td>3</td>\n",
       "      <td>6</td>\n",
       "    </tr>\n",
       "    <tr>\n",
       "      <th>31</th>\n",
       "      <td>31</td>\n",
       "      <td>2</td>\n",
       "      <td>4</td>\n",
       "      <td>7</td>\n",
       "      <td>6</td>\n",
       "      <td>3</td>\n",
       "      <td>1</td>\n",
       "      <td>5</td>\n",
       "    </tr>\n",
       "    <tr>\n",
       "      <th>32</th>\n",
       "      <td>27</td>\n",
       "      <td>2</td>\n",
       "      <td>4</td>\n",
       "      <td>7</td>\n",
       "      <td>5</td>\n",
       "      <td>1</td>\n",
       "      <td>3</td>\n",
       "      <td>6</td>\n",
       "    </tr>\n",
       "    <tr>\n",
       "      <th>33</th>\n",
       "      <td>26</td>\n",
       "      <td>2</td>\n",
       "      <td>3</td>\n",
       "      <td>6</td>\n",
       "      <td>4</td>\n",
       "      <td>1</td>\n",
       "      <td>5</td>\n",
       "      <td>7</td>\n",
       "    </tr>\n",
       "    <tr>\n",
       "      <th>34</th>\n",
       "      <td>27</td>\n",
       "      <td>2</td>\n",
       "      <td>3</td>\n",
       "      <td>6</td>\n",
       "      <td>5</td>\n",
       "      <td>4</td>\n",
       "      <td>1</td>\n",
       "      <td>7</td>\n",
       "    </tr>\n",
       "    <tr>\n",
       "      <th>35</th>\n",
       "      <td>30</td>\n",
       "      <td>1</td>\n",
       "      <td>4</td>\n",
       "      <td>6</td>\n",
       "      <td>5</td>\n",
       "      <td>3</td>\n",
       "      <td>2</td>\n",
       "      <td>7</td>\n",
       "    </tr>\n",
       "    <tr>\n",
       "      <th>36</th>\n",
       "      <td>30</td>\n",
       "      <td>2</td>\n",
       "      <td>4</td>\n",
       "      <td>7</td>\n",
       "      <td>5</td>\n",
       "      <td>1</td>\n",
       "      <td>3</td>\n",
       "      <td>6</td>\n",
       "    </tr>\n",
       "    <tr>\n",
       "      <th>37</th>\n",
       "      <td>25</td>\n",
       "      <td>5</td>\n",
       "      <td>4</td>\n",
       "      <td>7</td>\n",
       "      <td>6</td>\n",
       "      <td>1</td>\n",
       "      <td>2</td>\n",
       "      <td>3</td>\n",
       "    </tr>\n",
       "    <tr>\n",
       "      <th>38</th>\n",
       "      <td>31</td>\n",
       "      <td>2</td>\n",
       "      <td>4</td>\n",
       "      <td>7</td>\n",
       "      <td>5</td>\n",
       "      <td>3</td>\n",
       "      <td>1</td>\n",
       "      <td>6</td>\n",
       "    </tr>\n",
       "    <tr>\n",
       "      <th>39</th>\n",
       "      <td>29</td>\n",
       "      <td>4</td>\n",
       "      <td>3</td>\n",
       "      <td>5</td>\n",
       "      <td>7</td>\n",
       "      <td>2</td>\n",
       "      <td>1</td>\n",
       "      <td>6</td>\n",
       "    </tr>\n",
       "  </tbody>\n",
       "</table>\n",
       "</div>"
      ],
      "text/plain": [
       "    age  Mutual_Funds  Equity_Market  Debentures  Government_Bonds  \\\n",
       "0    34             1              2           5                 3   \n",
       "1    23             4              3           2                 1   \n",
       "2    30             3              6           4                 2   \n",
       "3    22             2              1           3                 7   \n",
       "4    24             2              1           3                 6   \n",
       "5    24             7              5           4                 6   \n",
       "6    27             3              6           4                 2   \n",
       "7    21             2              3           7                 4   \n",
       "8    35             2              4           7                 5   \n",
       "9    31             1              3           7                 4   \n",
       "10   35             2              4           7                 5   \n",
       "11   29             2              5           7                 6   \n",
       "12   21             1              2           3                 4   \n",
       "13   28             2              3           7                 4   \n",
       "14   25             2              3           7                 5   \n",
       "15   27             2              3           7                 5   \n",
       "16   28             3              2           7                 5   \n",
       "17   27             3              2           7                 4   \n",
       "18   29             3              2           7                 4   \n",
       "19   26             3              4           6                 5   \n",
       "20   29             2              4           7                 5   \n",
       "21   24             2              4           5                 6   \n",
       "22   27             3              4           6                 5   \n",
       "23   25             2              4           6                 5   \n",
       "24   26             2              3           7                 5   \n",
       "25   32             3              4           7                 5   \n",
       "26   26             3              4           6                 5   \n",
       "27   31             2              3           7                 6   \n",
       "28   29             2              3           6                 5   \n",
       "29   34             5              4           3                 2   \n",
       "30   27             4              5           1                 2   \n",
       "31   31             2              4           7                 6   \n",
       "32   27             2              4           7                 5   \n",
       "33   26             2              3           6                 4   \n",
       "34   27             2              3           6                 5   \n",
       "35   30             1              4           6                 5   \n",
       "36   30             2              4           7                 5   \n",
       "37   25             5              4           7                 6   \n",
       "38   31             2              4           7                 5   \n",
       "39   29             4              3           5                 7   \n",
       "\n",
       "    Fixed_Deposits  PPF  Gold  \n",
       "0                7    6     4  \n",
       "1                5    6     7  \n",
       "2                5    1     7  \n",
       "3                6    4     5  \n",
       "4                4    5     7  \n",
       "5                3    1     2  \n",
       "6                5    1     7  \n",
       "7                6    1     5  \n",
       "8                3    1     6  \n",
       "9                5    2     6  \n",
       "10               3    1     6  \n",
       "11               3    1     4  \n",
       "12               5    6     7  \n",
       "13               5    1     6  \n",
       "14               4    1     6  \n",
       "15               4    1     6  \n",
       "16               4    1     6  \n",
       "17               5    1     6  \n",
       "18               5    1     6  \n",
       "19               1    2     7  \n",
       "20               3    1     6  \n",
       "21               3    1     7  \n",
       "22               2    1     7  \n",
       "23               3    1     7  \n",
       "24               4    1     6  \n",
       "25               1    2     6  \n",
       "26               1    2     7  \n",
       "27               4    1     5  \n",
       "28               1    4     7  \n",
       "29               7    1     6  \n",
       "30               7    3     6  \n",
       "31               3    1     5  \n",
       "32               1    3     6  \n",
       "33               1    5     7  \n",
       "34               4    1     7  \n",
       "35               3    2     7  \n",
       "36               1    3     6  \n",
       "37               1    2     3  \n",
       "38               3    1     6  \n",
       "39               2    1     6  "
      ]
     },
     "execution_count": 14,
     "metadata": {},
     "output_type": "execute_result"
    }
   ],
   "source": [
    "numericDF = data._get_numeric_data()\n",
    "numericDF"
   ]
  },
  {
   "cell_type": "code",
   "execution_count": 15,
   "id": "ee74e1f9-32bb-41c4-a428-348d82c432cd",
   "metadata": {},
   "outputs": [
    {
     "name": "stdout",
     "output_type": "stream",
     "text": [
      "Mean values:\n",
      " age                 27.800\n",
      "Mutual_Funds         2.550\n",
      "Equity_Market        3.475\n",
      "Debentures           5.750\n",
      "Government_Bonds     4.650\n",
      "Fixed_Deposits       3.575\n",
      "PPF                  2.025\n",
      "Gold                 5.975\n",
      "dtype: float64\n",
      "\n",
      "Median values:\n",
      " age                 27.0\n",
      "Mutual_Funds         2.0\n",
      "Equity_Market        4.0\n",
      "Debentures           6.5\n",
      "Government_Bonds     5.0\n",
      "Fixed_Deposits       3.5\n",
      "PPF                  1.0\n",
      "Gold                 6.0\n",
      "dtype: float64\n",
      "\n",
      "Standard Deviation values:\n",
      " age                 3.560467\n",
      "Mutual_Funds        1.197219\n",
      "Equity_Market       1.131994\n",
      "Debentures          1.675617\n",
      "Government_Bonds    1.369072\n",
      "Fixed_Deposits      1.795828\n",
      "PPF                 1.609069\n",
      "Gold                1.143263\n",
      "dtype: float64\n"
     ]
    }
   ],
   "source": [
    "print(\"Mean values:\\n\", numericDF.mean())\n",
    "print(\"\\nMedian values:\\n\", numericDF.median())\n",
    "print(\"\\nStandard Deviation values:\\n\", numericDF.std())"
   ]
  },
  {
   "cell_type": "code",
   "execution_count": 16,
   "id": "3933049e-75bb-43f0-bc7b-85ef96c0aab4",
   "metadata": {},
   "outputs": [
    {
     "data": {
      "text/plain": [
       "'\\nTask 4: Most Preferred Investment Avenue\\nObjective: Identify the most preferred investment avenue.\\nSteps:\\n1.Analyze Investment Avenues: Examine the column containing information about different investment avenues (e.g., equity, mutual funds).\\n2.Frequency Analysis: Determine the investment avenue with the highest frequency or occurrence.\\n'"
      ]
     },
     "execution_count": 16,
     "metadata": {},
     "output_type": "execute_result"
    }
   ],
   "source": [
    "\"\"\"\n",
    "Task 4: Most Preferred Investment Avenue\n",
    "Objective: Identify the most preferred investment avenue.\n",
    "Steps:\n",
    "1.Analyze Investment Avenues: Examine the column containing information about different investment avenues (e.g., equity, mutual funds).\n",
    "2.Frequency Analysis: Determine the investment avenue with the highest frequency or occurrence.\n",
    "\"\"\""
   ]
  },
  {
   "cell_type": "code",
   "execution_count": 17,
   "id": "c47a6ef1-8836-46a3-ab4f-1f7c9dba40d4",
   "metadata": {},
   "outputs": [
    {
     "data": {
      "text/plain": [
       "Investment_Avenues\n",
       "Yes    37\n",
       "No      3\n",
       "Name: count, dtype: int64"
      ]
     },
     "execution_count": 17,
     "metadata": {},
     "output_type": "execute_result"
    }
   ],
   "source": [
    "data['Investment_Avenues'].value_counts()"
   ]
  },
  {
   "cell_type": "code",
   "execution_count": 18,
   "id": "dd080185-b81a-4589-ac8d-f334264c2554",
   "metadata": {},
   "outputs": [],
   "source": [
    "Investment_Avenue_counts = data['Investment_Avenues'].value_counts()"
   ]
  },
  {
   "cell_type": "code",
   "execution_count": 19,
   "id": "ca1decf8-8901-4bcc-b4e1-597bc4da8442",
   "metadata": {},
   "outputs": [
    {
     "name": "stdout",
     "output_type": "stream",
     "text": [
      "Unique Investment Avenues:\n",
      " Investment_Avenues\n",
      "Yes    37\n",
      "No      3\n",
      "Name: count, dtype: int64\n"
     ]
    }
   ],
   "source": [
    "print(\"Unique Investment Avenues:\\n\", Investment_Avenue_counts)"
   ]
  },
  {
   "cell_type": "code",
   "execution_count": 20,
   "id": "0545b809-64fe-43c6-8674-5a5d3cd9325c",
   "metadata": {},
   "outputs": [
    {
     "data": {
      "text/plain": [
       "'\\nTask 5: Reasons for Investment\\nObjective: Analyze and summarize reasons for investment choices.\\nSteps:\\n1.Explore Reasons Column: Investigate the column where participants provided reasons for their investment choices.\\n2.Summarize Reasons: Identify common themes or recurring reasons and provide a summary.\\n'"
      ]
     },
     "execution_count": 20,
     "metadata": {},
     "output_type": "execute_result"
    }
   ],
   "source": [
    "\"\"\"\n",
    "Task 5: Reasons for Investment\n",
    "Objective: Analyze and summarize reasons for investment choices.\n",
    "Steps:\n",
    "1.Explore Reasons Column: Investigate the column where participants provided reasons for their investment choices.\n",
    "2.Summarize Reasons: Identify common themes or recurring reasons and provide a summary.\n",
    "\"\"\""
   ]
  },
  {
   "cell_type": "code",
   "execution_count": 21,
   "id": "64dbe9e4-6e27-45b2-8b38-65475dbdd85d",
   "metadata": {},
   "outputs": [],
   "source": [
    "reason_columns = ['Reason_Equity', 'Reason_Mutual', 'Reason_Bonds', 'Reason_FD']"
   ]
  },
  {
   "cell_type": "code",
   "execution_count": 22,
   "id": "c1c16acb-6914-44b2-b902-36f16acec75d",
   "metadata": {},
   "outputs": [],
   "source": [
    "all_reasons = pd.concat([data[col] for col in reason_columns])"
   ]
  },
  {
   "cell_type": "code",
   "execution_count": 23,
   "id": "2efbe37f-43e7-41a1-9a3e-3ffc737b2e4b",
   "metadata": {},
   "outputs": [],
   "source": [
    "reason_summary = all_reasons.value_counts()"
   ]
  },
  {
   "cell_type": "code",
   "execution_count": 24,
   "id": "2e315368-fd2d-4433-8468-dbd526eadd79",
   "metadata": {},
   "outputs": [
    {
     "name": "stdout",
     "output_type": "stream",
     "text": [
      "Summary of Reasons for Investment Choices:\n",
      " Capital Appreciation    30\n",
      "Assured Returns         26\n",
      "Better Returns          24\n",
      "Risk Free               19\n",
      "Fixed Returns           18\n",
      "Fund Diversification    13\n",
      "Safe Investment         13\n",
      "Dividend                 8\n",
      "High Interest Rates      3\n",
      "Tax Benefits             3\n",
      "Liquidity                2\n",
      "Tax Incentives           1\n",
      "Name: count, dtype: int64\n"
     ]
    }
   ],
   "source": [
    "print(\"Summary of Reasons for Investment Choices:\\n\", reason_summary)"
   ]
  },
  {
   "cell_type": "code",
   "execution_count": 25,
   "id": "caa04227-0bb8-4ffc-b401-6967e05c7d18",
   "metadata": {},
   "outputs": [
    {
     "data": {
      "text/plain": [
       "\"\\nTask 6: Savings Objectives\\nObjective: Identify and present main savings objectives.\\nSteps:\\n1.Analyze Savings Objectives: Examine the column containing information about participants' savings objectives.\\n2.List and Describe Objectives: Create a list and describe the main savings objectives mentioned by participants.\\n\""
      ]
     },
     "execution_count": 25,
     "metadata": {},
     "output_type": "execute_result"
    }
   ],
   "source": [
    "\"\"\"\n",
    "Task 6: Savings Objectives\n",
    "Objective: Identify and present main savings objectives.\n",
    "Steps:\n",
    "1.Analyze Savings Objectives: Examine the column containing information about participants' savings objectives.\n",
    "2.List and Describe Objectives: Create a list and describe the main savings objectives mentioned by participants.\n",
    "\"\"\""
   ]
  },
  {
   "cell_type": "code",
   "execution_count": 26,
   "id": "45693304-06cb-49ac-97c3-694c379c6580",
   "metadata": {},
   "outputs": [],
   "source": [
    "savingObjectives=data['What are your savings objectives?'].value_counts();"
   ]
  },
  {
   "cell_type": "code",
   "execution_count": 27,
   "id": "dea54d32-e4bb-4362-b52e-abd833c8bd6f",
   "metadata": {},
   "outputs": [
    {
     "data": {
      "image/png": "[encoded data removed]",
      "text/plain": [
       "<Figure size 600x600 with 1 Axes>"
      ]
     },
     "metadata": {},
     "output_type": "display_data"
    }
   ],
   "source": [
    "plt.figure(figsize=(6, 6))\n",
    "plt.pie(savingObjectives.values, labels=savingObjectives.index, autopct='%1.1f%%', colors=['lightblue', 'lightpink'], startangle=90)\n",
    "plt.title('Savings Objectives')\n",
    "plt.axis('equal')  # Equal aspect ratio ensures the pie is drawn as a circle.\n",
    "plt.show()"
   ]
  },
  {
   "cell_type": "code",
   "execution_count": 28,
   "id": "8504086e-7e91-4ab5-89fc-65c5931c36dd",
   "metadata": {},
   "outputs": [
    {
     "data": {
      "text/plain": [
       "'\\nTask 7: Common Information Sources\\nObjective: Analyze common sources participants rely on for investment information.\\nSteps:\\n1.Explore Information Sources Column: Review the column where participants indicated their sources of investment information.\\n2.Identify Common Sources: Analyze the data to identify and summarize the most common sources participants rely on.\\n'"
      ]
     },
     "execution_count": 28,
     "metadata": {},
     "output_type": "execute_result"
    }
   ],
   "source": [
    "\"\"\"\n",
    "Task 7: Common Information Sources\n",
    "Objective: Analyze common sources participants rely on for investment information.\n",
    "Steps:\n",
    "1.Explore Information Sources Column: Review the column where participants indicated their sources of investment information.\n",
    "2.Identify Common Sources: Analyze the data to identify and summarize the most common sources participants rely on.\n",
    "\"\"\""
   ]
  },
  {
   "cell_type": "code",
   "execution_count": 29,
   "id": "d29e4e50-8f64-4501-9500-46099480071e",
   "metadata": {},
   "outputs": [],
   "source": [
    "sourcesObjectives=data['Source'].value_counts();"
   ]
  },
  {
   "cell_type": "code",
   "execution_count": 30,
   "id": "58552109-4022-4abf-a9e3-07bf3bbb2062",
   "metadata": {},
   "outputs": [
    {
     "data": {
      "image/png": "[encoded data removed]",
      "text/plain": [
       "<Figure size 600x600 with 1 Axes>"
      ]
     },
     "metadata": {},
     "output_type": "display_data"
    }
   ],
   "source": [
    "plt.figure(figsize=(6, 6))\n",
    "plt.pie(savingObjectives.values, labels=savingObjectives.index, autopct='%1.1f%%', colors=['lightblue', 'lightpink'], startangle=90)\n",
    "plt.title('Source')\n",
    "plt.axis('equal')  # Equal aspect ratio ensures the pie is drawn as a circle.\n",
    "plt.show()"
   ]
  },
  {
   "cell_type": "code",
   "execution_count": 31,
   "id": "97d418ab-224e-4450-9b5f-288b3704e30e",
   "metadata": {},
   "outputs": [
    {
     "data": {
      "text/plain": [
       "\"\\nTask 8: Investment Duration\\nObjective: Calculate the average investment duration.\\nSteps:\\n1.Analyze Investment Duration Column: Examine the column containing information about participants' investment durations.\\n2.Calculate Average Duration: Use appropriate statistical methods to calculate the average investment duration.\\n\""
      ]
     },
     "execution_count": 31,
     "metadata": {},
     "output_type": "execute_result"
    }
   ],
   "source": [
    "\"\"\"\n",
    "Task 8: Investment Duration\n",
    "Objective: Calculate the average investment duration.\n",
    "Steps:\n",
    "1.Analyze Investment Duration Column: Examine the column containing information about participants' investment durations.\n",
    "2.Calculate Average Duration: Use appropriate statistical methods to calculate the average investment duration.\n",
    "\"\"\""
   ]
  },
  {
   "cell_type": "code",
   "execution_count": 32,
   "id": "a8ff5b6a-47a5-4e4b-bad2-2c7b4ea6abd0",
   "metadata": {},
   "outputs": [
    {
     "data": {
      "text/plain": [
       "Duration\n",
       "3-5 years            19\n",
       "1-3 years            18\n",
       "Less than 1 year      2\n",
       "More than 5 years     1\n",
       "Name: count, dtype: int64"
      ]
     },
     "execution_count": 32,
     "metadata": {},
     "output_type": "execute_result"
    }
   ],
   "source": [
    "data['Duration'].value_counts()"
   ]
  },
  {
   "cell_type": "code",
   "execution_count": 33,
   "id": "080676f3-8fdf-4450-9255-e107bbe5c981",
   "metadata": {},
   "outputs": [
    {
     "name": "stdout",
     "output_type": "stream",
     "text": [
      "Unique values in Duration column: ['1-3 years' 'More than 5 years' '3-5 years' 'Less than 1 year']\n"
     ]
    }
   ],
   "source": [
    "print(\"Unique values in Duration column:\", data['Duration'].unique())"
   ]
  },
  {
   "cell_type": "code",
   "execution_count": 34,
   "id": "6efcb6a5-ee51-40d8-904f-523000b94dca",
   "metadata": {},
   "outputs": [],
   "source": [
    "duration_mapping = {\n",
    "    'Less than 1 year': 0.5,\n",
    "    '1-3 years': 2,\n",
    "    '3-5 years': 4,\n",
    "    'More than 5 years': 6} "
   ]
  },
  {
   "cell_type": "code",
   "execution_count": 35,
   "id": "7a385349-5bc5-4d3c-9a06-997be4cf2009",
   "metadata": {},
   "outputs": [],
   "source": [
    "data['Duration_numeric'] = data['Duration'].map(duration_mapping)"
   ]
  },
  {
   "cell_type": "code",
   "execution_count": 36,
   "id": "03bda4da-d05b-4693-ae05-e17ef5828cd4",
   "metadata": {},
   "outputs": [],
   "source": [
    "average_duration = data['Duration_numeric'].mean()"
   ]
  },
  {
   "cell_type": "code",
   "execution_count": 37,
   "id": "37fb8422-7f81-44de-b373-72d3e60d464a",
   "metadata": {},
   "outputs": [
    {
     "name": "stdout",
     "output_type": "stream",
     "text": [
      "Average Investment Duration (in years): 2.975\n"
     ]
    }
   ],
   "source": [
    "print(\"Average Investment Duration (in years):\", average_duration)"
   ]
  },
  {
   "cell_type": "code",
   "execution_count": 38,
   "id": "b4a515b5-b170-42e8-98fe-aa9b350ed9ac",
   "metadata": {},
   "outputs": [
    {
     "data": {
      "text/plain": [
       "\"\\nTask 9: Expectations from Investments\\nObjective: Summarize participants' expectations from investments.\\nSteps:\\n1.Explore Expectations Column: Review the column where participants provided information about their expectations.\\n2.List and Describe Expectations: Create a list and describe the common expectations mentioned by participants.\\n\""
      ]
     },
     "execution_count": 38,
     "metadata": {},
     "output_type": "execute_result"
    }
   ],
   "source": [
    "\"\"\"\n",
    "Task 9: Expectations from Investments\n",
    "Objective: Summarize participants' expectations from investments.\n",
    "Steps:\n",
    "1.Explore Expectations Column: Review the column where participants provided information about their expectations.\n",
    "2.List and Describe Expectations: Create a list and describe the common expectations mentioned by participants.\n",
    "\"\"\""
   ]
  },
  {
   "cell_type": "code",
   "execution_count": 39,
   "id": "75efa22d-7949-47d9-a69e-3e2834941bf8",
   "metadata": {},
   "outputs": [
    {
     "name": "stdout",
     "output_type": "stream",
     "text": [
      "Unique values in Expect column: ['20%-30%' '10%-20%' '30%-40%']\n"
     ]
    }
   ],
   "source": [
    "print(\"Unique values in Expect column:\", data['Expect'].unique())"
   ]
  },
  {
   "cell_type": "code",
   "execution_count": 40,
   "id": "1e63d73d-3581-4da1-bf55-0324ec7cf8b1",
   "metadata": {},
   "outputs": [],
   "source": [
    "expectations_summary = data['Expect'].value_counts()"
   ]
  },
  {
   "cell_type": "code",
   "execution_count": 41,
   "id": "3f2728d6-fe40-4d1f-88dd-0d602c6f6c92",
   "metadata": {},
   "outputs": [
    {
     "name": "stdout",
     "output_type": "stream",
     "text": [
      "\n",
      "Common Expectations Summary:\n",
      " Expect\n",
      "20%-30%    32\n",
      "30%-40%     5\n",
      "10%-20%     3\n",
      "Name: count, dtype: int64\n"
     ]
    }
   ],
   "source": [
    "print(\"\\nCommon Expectations Summary:\\n\", expectations_summary)"
   ]
  },
  {
   "cell_type": "code",
   "execution_count": 42,
   "id": "661eab9b-ffa9-41b2-b0c5-1875ce673d07",
   "metadata": {},
   "outputs": [
    {
     "data": {
      "image/png": "[encoded data removed]",
      "text/plain": [
       "<Figure size 600x600 with 1 Axes>"
      ]
     },
     "metadata": {},
     "output_type": "display_data"
    }
   ],
   "source": [
    "plt.figure(figsize=(6, 6))\n",
    "plt.pie(expectations_summary.values, labels=expectations_summary.index, autopct='%1.1f%%', colors=['lightblue', 'lightpink'], startangle=90)\n",
    "plt.title('Expect')\n",
    "plt.axis('equal')  # Equal aspect ratio ensures the pie is drawn as a circle.\n",
    "plt.show()"
   ]
  },
  {
   "cell_type": "code",
   "execution_count": 43,
   "id": "3aeef46c-4900-4fd5-9904-e42ca0ee0016",
   "metadata": {},
   "outputs": [
    {
     "data": {
      "text/plain": [
       "'\\nTask 10: Correlation Analysis\\nObjective: Explore potential correlations between factors.\\nSteps:\\n1.Select Relevant Columns: Identify columns such as age, investment duration, and expected returns for correlation analysis.\\n2.Use Statistical Methods or Visualizations: Employ statistical methods (e.g., correlation coefficients) or visualizations (e.g., scatter plots) to \\nexplore and visualize potential correlations.\\n'"
      ]
     },
     "execution_count": 43,
     "metadata": {},
     "output_type": "execute_result"
    }
   ],
   "source": [
    "\"\"\"\n",
    "Task 10: Correlation Analysis\n",
    "Objective: Explore potential correlations between factors.\n",
    "Steps:\n",
    "1.Select Relevant Columns: Identify columns such as age, investment duration, and expected returns for correlation analysis.\n",
    "2.Use Statistical Methods or Visualizations: Employ statistical methods (e.g., correlation coefficients) or visualizations (e.g., scatter plots) to \n",
    "explore and visualize potential correlations.\n",
    "\"\"\""
   ]
  },
  {
   "cell_type": "code",
   "execution_count": 44,
   "id": "c3b196ec-11ed-4927-88be-689b2d24084a",
   "metadata": {},
   "outputs": [
    {
     "name": "stdout",
     "output_type": "stream",
     "text": [
      "['Female' 'Male']\n",
      "[34 23 30 22 24 27 21 35 31 29 28 25 26 32]\n",
      "['Yes' 'No']\n",
      "[1 4 3 2 7 5]\n",
      "[2 3 6 1 5 4]\n",
      "[5 2 4 3 7 6 1]\n",
      "[3 1 2 7 6 4 5]\n",
      "[7 5 6 4 3 1 2]\n",
      "[6 1 4 5 2 3]\n",
      "[4 7 5 2 6 3]\n",
      "['Yes' 'No']\n",
      "['Returns' 'Locking Period' 'Risk']\n",
      "['Capital Appreciation' 'Income' 'Growth']\n",
      "['Wealth Creation' 'Savings for Future' 'Returns']\n",
      "['1-3 years' 'More than 5 years' '3-5 years' 'Less than 1 year']\n",
      "['Monthly' 'Weekly' 'Daily']\n",
      "['20%-30%' '10%-20%' '30%-40%']\n",
      "['Mutual Fund' 'Equity' 'Fixed Deposits' 'Public Provident Fund']\n",
      "['Retirement Plan' 'Health Care' 'Education']\n",
      "['Capital Appreciation' 'Dividend' 'Liquidity']\n",
      "['Better Returns' 'Tax Benefits' 'Fund Diversification']\n",
      "['Safe Investment' 'Assured Returns' 'Tax Incentives']\n",
      "['Fixed Returns' 'High Interest Rates' 'Risk Free']\n",
      "['Newspapers and Magazines' 'Financial Consultants' 'Television'\n",
      " 'Internet']\n",
      "[2.  6.  4.  0.5]\n"
     ]
    }
   ],
   "source": [
    "for col in data:\n",
    "    print(data[col].unique())"
   ]
  },
  {
   "cell_type": "code",
   "execution_count": 45,
   "id": "0e4fe109-0c02-4acd-b86d-799ac028f8de",
   "metadata": {},
   "outputs": [
    {
     "name": "stdout",
     "output_type": "stream",
     "text": [
      "Column names in dataset: Index(['gender', 'age', 'Investment_Avenues', 'Mutual_Funds', 'Equity_Market',\n",
      "       'Debentures', 'Government_Bonds', 'Fixed_Deposits', 'PPF', 'Gold',\n",
      "       'Stock_Marktet', 'Factor', 'Objective', 'Purpose', 'Duration',\n",
      "       'Invest_Monitor', 'Expect', 'Avenue',\n",
      "       'What are your savings objectives?', 'Reason_Equity', 'Reason_Mutual',\n",
      "       'Reason_Bonds', 'Reason_FD', 'Source', 'Duration_numeric'],\n",
      "      dtype='object')\n"
     ]
    }
   ],
   "source": [
    "print(\"Column names in dataset:\", data.columns)"
   ]
  },
  {
   "cell_type": "code",
   "execution_count": 46,
   "id": "23eb1f4f-5404-4cca-8c03-d5ac82c30b70",
   "metadata": {},
   "outputs": [],
   "source": [
    "numeric_data = data.select_dtypes(include=['float64', 'int64'])"
   ]
  },
  {
   "cell_type": "code",
   "execution_count": 47,
   "id": "04fe1806-0ca3-45b1-9ceb-c65a8fa7c20e",
   "metadata": {},
   "outputs": [],
   "source": [
    "correlation_matrix = numeric_data.corr()"
   ]
  },
  {
   "cell_type": "code",
   "execution_count": 48,
   "id": "78b21d09-d0d8-4f48-b69d-06696ea61196",
   "metadata": {},
   "outputs": [
    {
     "name": "stdout",
     "output_type": "stream",
     "text": [
      "Correlation Matrix:\n",
      "                        age  Mutual_Funds  Equity_Market  Debentures  \\\n",
      "age               1.000000     -0.123914       0.246840    0.326638   \n",
      "Mutual_Funds     -0.123914      1.000000       0.332043   -0.351495   \n",
      "Equity_Market     0.246840      0.332043       1.000000   -0.016898   \n",
      "Debentures        0.326638     -0.351495      -0.016898    1.000000   \n",
      "Government_Bonds -0.093632     -0.114198      -0.237420    0.430323   \n",
      "Fixed_Deposits   -0.033685     -0.031604      -0.238705   -0.470791   \n",
      "PPF              -0.263167     -0.193665      -0.429003   -0.511169   \n",
      "Gold             -0.057952     -0.401830      -0.050027   -0.137195   \n",
      "Duration_numeric  0.051756      0.184528       0.471251    0.034367   \n",
      "\n",
      "                  Government_Bonds  Fixed_Deposits       PPF      Gold  \\\n",
      "age                      -0.093632       -0.033685 -0.263167 -0.057952   \n",
      "Mutual_Funds             -0.114198       -0.031604 -0.193665 -0.401830   \n",
      "Equity_Market            -0.237420       -0.238705 -0.429003 -0.050027   \n",
      "Debentures                0.430323       -0.470791 -0.511169 -0.137195   \n",
      "Government_Bonds          1.000000       -0.531359 -0.240356 -0.300607   \n",
      "Fixed_Deposits           -0.531359        1.000000  0.083633 -0.092730   \n",
      "PPF                      -0.240356        0.083633  1.000000  0.125795   \n",
      "Gold                     -0.300607       -0.092730  0.125795  1.000000   \n",
      "Duration_numeric         -0.288315       -0.191524 -0.188376  0.201021   \n",
      "\n",
      "                  Duration_numeric  \n",
      "age                       0.051756  \n",
      "Mutual_Funds              0.184528  \n",
      "Equity_Market             0.471251  \n",
      "Debentures                0.034367  \n",
      "Government_Bonds         -0.288315  \n",
      "Fixed_Deposits           -0.191524  \n",
      "PPF                      -0.188376  \n",
      "Gold                      0.201021  \n",
      "Duration_numeric          1.000000  \n"
     ]
    }
   ],
   "source": [
    "print(\"Correlation Matrix:\\n\", correlation_matrix)"
   ]
  },
  {
   "cell_type": "code",
   "execution_count": 49,
   "id": "dc975ddc-9a88-4c2c-b8e6-084a52fa7adb",
   "metadata": {},
   "outputs": [
    {
     "data": {
      "image/png": "[encoded data removed]",
      "text/plain": [
       "<Figure size 900x800 with 2 Axes>"
      ]
     },
     "metadata": {},
     "output_type": "display_data"
    }
   ],
   "source": [
    "plt.figure(figsize=(9, 8))\n",
    "sns.heatmap(correlation_matrix, annot=True, cmap='coolwarm', fmt=\".2f\")\n",
    "plt.title(\"Correlation Heatmap\")\n",
    "plt.show()"
   ]
  },
  {
   "cell_type": "code",
   "execution_count": null,
   "id": "d6054aba-27e5-4875-8794-41a21d7b10d0",
   "metadata": {},
   "outputs": [],
   "source": []
  }
 ],
 "metadata": {
  "kernelspec": {
   "display_name": "Python 3 (ipykernel)",
   "language": "python",
   "name": "python3"
  },
  "language_info": {
   "codemirror_mode": {
    "name": "ipython",
    "version": 3
   },
   "file_extension": ".py",
   "mimetype": "text/x-python",
   "name": "python",
   "nbconvert_exporter": "python",
   "pygments_lexer": "ipython3",
   "version": "3.13.0"
  }
 },
 "nbformat": 4,
 "nbformat_minor": 5
}
